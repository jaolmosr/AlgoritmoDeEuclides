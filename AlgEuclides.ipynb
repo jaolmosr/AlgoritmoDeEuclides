{
  "nbformat": 4,
  "nbformat_minor": 0,
  "metadata": {
    "colab": {
      "name": "AlgEuclides.ipynb",
      "provenance": [],
      "authorship_tag": "ABX9TyP3BdGGspUJpjXgEm3EaSRY",
      "include_colab_link": true
    },
    "kernelspec": {
      "name": "python3",
      "display_name": "Python 3"
    },
    "language_info": {
      "name": "python"
    }
  },
  "cells": [
    {
      "cell_type": "markdown",
      "metadata": {
        "id": "view-in-github",
        "colab_type": "text"
      },
      "source": [
        "<a href=\"https://colab.research.google.com/github/jaolmosr/AlgoritmoDeEuclides/blob/main/AlgEuclides.ipynb\" target=\"_parent\"><img src=\"https://colab.research.google.com/assets/colab-badge.svg\" alt=\"Open In Colab\"/></a>"
      ]
    },
    {
      "cell_type": "markdown",
      "source": [
        "# <center>**Algoritmo de Euclides**</center>\n",
        "\n",
        "\n",
        "<img src=\"https://github.com/jaolmosr/AlgoritmoDeEuclides/raw/main/imagenes/algoritmoEuclides.png\"  width=\"400px\" height=\"250px\">\n",
        "\n",
        "Dados $a=b\\cdot q+r$ donde $a,b,c$ son enteros, entonces $$mcd(a,b) = mcd(br)$$\n",
        "\n",
        "De allí podemos entonces calcular de forma algoritmica el mcd de dos numeros.\n",
        "\n",
        "**Ejemplo** Calcular $mcd(101,4620)$.\n",
        "\n",
        "$\n",
        "\\begin{equation}\n",
        "\\begin{split}\n",
        "4620 & = 101\\times 45 + 75\\\\\n",
        "101 & = 75\\times 1 + 26 \\\\\n",
        "75 &= 26\\times 2 + 23 \\\\\n",
        "26 &= 23\\times 1 + 3\\\\\n",
        "23 &= 3\\times 7 + 2\\\\\n",
        "3 &= 2\\times 1 + 1 \\\\\n",
        "2 &= 1\\times 2 + 0\n",
        "\\end{split}\n",
        "\\end{equation}\n",
        "$\n",
        "\n",
        "Entonces de acá podemos ver que $mcd(4620,101) = 1$\n"
      ],
      "metadata": {
        "id": "MxxIUaq0bnXI"
      }
    },
    {
      "cell_type": "code",
      "execution_count": 3,
      "metadata": {
        "colab": {
          "base_uri": "https://localhost:8080/"
        },
        "id": "lWelEv3Fbi5A",
        "outputId": "4feb2631-d682-4f95-b6f9-f397e3d520c2"
      },
      "outputs": [
        {
          "output_type": "execute_result",
          "data": {
            "text/plain": [
              "75"
            ]
          },
          "metadata": {},
          "execution_count": 3
        }
      ],
      "source": [
        "4620 % 101"
      ]
    },
    {
      "cell_type": "markdown",
      "source": [
        "Vamos ahora a crear la función para este algoritmo y la llamaremos ``mcd``"
      ],
      "metadata": {
        "id": "NG8XmMJBdhAd"
      }
    },
    {
      "cell_type": "code",
      "source": [
        "def mcd(a,b):\n",
        "  x = a\n",
        "  y = b\n",
        "  while y!=0:\n",
        "    r = x%y\n",
        "    x = y\n",
        "    y = r\n",
        "  return x"
      ],
      "metadata": {
        "id": "Uh0fVP2YdAun"
      },
      "execution_count": 4,
      "outputs": []
    },
    {
      "cell_type": "code",
      "source": [
        "mcd(4620,101)"
      ],
      "metadata": {
        "colab": {
          "base_uri": "https://localhost:8080/"
        },
        "id": "DGJu1nUsdyEE",
        "outputId": "857a0d44-9b4e-451d-d586-574b3c62464f"
      },
      "execution_count": 5,
      "outputs": [
        {
          "output_type": "execute_result",
          "data": {
            "text/plain": [
              "1"
            ]
          },
          "metadata": {},
          "execution_count": 5
        }
      ]
    }
  ]
}